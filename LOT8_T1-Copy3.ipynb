{
 "cells": [
  {
   "cell_type": "code",
   "execution_count": 9,
   "id": "7d20e0ea",
   "metadata": {},
   "outputs": [],
   "source": [
    "import pandas as pd\n",
    "from pandas_profiling import ProfileReport\n",
    "import numpy as np\n",
    "from sklearn.metrics import accuracy_score\n",
    "from sklearn.linear_model import LinearRegression\n",
    "from sklearn.metrics import r2_score\n",
    "from sklearn.tree import DecisionTreeRegressor\n",
    "from sklearn.ensemble import RandomForestRegressor\n",
    "from sklearn.svm import SVR\n",
    "import tensorflow as tf\n",
    "from tensorflow import keras\n",
    "from sklearn.model_selection import GridSearchCV\n",
    "import os,sys\n",
    "from sklearn.preprocessing import MinMaxScaler\n",
    "from sklearn.model_selection import train_test_split"
   ]
  },
  {
   "cell_type": "code",
   "execution_count": 10,
   "id": "d7b0436e",
   "metadata": {},
   "outputs": [],
   "source": [
    "df = pd.read_csv(\"Data_RH.csv\", header=0, sep=';')"
   ]
  },
  {
   "cell_type": "code",
   "execution_count": 11,
   "id": "21afec8f",
   "metadata": {},
   "outputs": [
    {
     "data": {
      "text/plain": [
       "(38658, 6)"
      ]
     },
     "execution_count": 11,
     "metadata": {},
     "output_type": "execute_result"
    }
   ],
   "source": [
    "df.shape"
   ]
  },
  {
   "cell_type": "markdown",
   "id": "fb43f0d9",
   "metadata": {},
   "source": [
    "# Some statistics"
   ]
  },
  {
   "cell_type": "code",
   "execution_count": 8,
   "id": "29109757",
   "metadata": {},
   "outputs": [],
   "source": [
    "prof=ProfileReport(df)\n",
    "prof.to_file(output_file='Profile_RH')"
   ]
  },
  {
   "cell_type": "markdown",
   "id": "d8d32892",
   "metadata": {},
   "source": [
    "# Data split"
   ]
  },
  {
   "cell_type": "code",
   "execution_count": 12,
   "id": "05928d50",
   "metadata": {},
   "outputs": [
    {
     "name": "stdout",
     "output_type": "stream",
     "text": [
      "X_train shape: (23194, 4)\n",
      "X_test shape: (7732, 4)\n",
      "y_train shape: (23194, 1)\n",
      "y_test shape: (7732, 1)\n",
      "X_val shape: (7732, 4)\n",
      "y_val shape: (7732, 1)\n"
     ]
    }
   ],
   "source": [
    "Multivariate Time Series Forecasting using RNN(LSTM)\n",
    "I was trying to forecast the future values of a variable where it not only depends on the previous values of itself but it also depends on the previous/current values of the other variables. In that case we consider that as multivariate time series forecasting problem.\n",
    "\n",
    "EXAMPLE:\n",
    "\n",
    "Let us consider a shop which is trying to sell two different Indian snacks i.e. Samosa and Kachori. He wants to forecast the number of samosas he must prepare next day to fulfill the demands of the customers. In this case let me give you a realistic example.\n",
    "\n",
    "Samosa(available-yes),kachori(available-yes):\n",
    "\n",
    "Consider a customer who has come with an intention to buy 10 samosas but as kachoris were also available in the shop. He ended up ordering 5 samosa and 5 kachori . The sales of samosa dipped down because of the kachoris availability.\n",
    "\n",
    "Samosa(available-yes),kachori(available-no)\n",
    "\n",
    "Consider the same customer has come to the same shop with the intention of buying 5 samosas and 5 kachoris but because of the unavailability he ended up buying 10 samosas . The sales of samosas increased because of the unavailability of kachoris. The same could happen vice-versa.\n",
    "\n",
    "In the case above the sales of samosa is not only dependent on its previous sales but also dependent on the current and past sales of kachori. Hence, it becomes multi-variate time series problem. Hope, it sounds clean and clear now.\n",
    "# set aside 20% of train and test data for evaluation\n",
    "X_train, X_test, y_train, y_test = train_test_split(x, y,\n",
    "    test_size=0.2, shuffle = True, random_state = 8)\n",
    "\n",
    "# Use the same function above for the validation set\n",
    "X_train, X_val, y_train, y_val = train_test_split(X_train, y_train, \n",
    "    test_size=0.25, random_state= 8) # 0.25 x 0.8 = 0.2\n",
    "\n",
    "\n",
    "print(\"X_train shape: {}\".format(X_train.shape))\n",
    "print(\"X_test shape: {}\".format(X_test.shape))\n",
    "print(\"y_train shape: {}\".format(y_train.shape))\n",
    "print(\"y_test shape: {}\".format(y_test.shape))\n",
    "print(\"X_val shape: {}\".format(X_val.shape))\n",
    "print(\"y_val shape: {}\".format(y_val.shape))"
   ]
  },
  {
   "cell_type": "markdown",
   "id": "7c0aefaf",
   "metadata": {},
   "source": [
    "# LinearRegression"
   ]
  },
  {
   "cell_type": "code",
   "execution_count": 13,
   "id": "6baf681f",
   "metadata": {},
   "outputs": [
    {
     "data": {
      "text/plain": [
       "LinearRegression()"
      ]
     },
     "execution_count": 13,
     "metadata": {},
     "output_type": "execute_result"
    }
   ],
   "source": [
    "model=LinearRegression()\n",
    "model.fit(X_train,y_train)"
   ]
  },
  {
   "cell_type": "code",
   "execution_count": 14,
   "id": "57265c6d",
   "metadata": {},
   "outputs": [],
   "source": [
    "prediction = model.predict(X_val)"
   ]
  },
  {
   "cell_type": "code",
   "execution_count": 15,
   "id": "d70257a3",
   "metadata": {},
   "outputs": [
    {
     "name": "stdout",
     "output_type": "stream",
     "text": [
      "Variance score: 0.94\n",
      "Mean absolute error: 2.96\n",
      "Residual sum of squares (MSE): 31.60\n",
      "R2-score: 0.94\n"
     ]
    },
    {
     "name": "stderr",
     "output_type": "stream",
     "text": [
      "C:\\Users\\AL799775\\Anaconda3\\lib\\site-packages\\numpy\\core\\fromnumeric.py:3438: FutureWarning: In a future version, DataFrame.mean(axis=None) will return a scalar mean over the entire DataFrame. To retain the old behavior, use 'frame.mean(axis=0)' or just 'frame.mean()'\n",
      "  return mean(axis=axis, dtype=dtype, out=out, **kwargs)\n"
     ]
    }
   ],
   "source": [
    "print('Variance score: %.2f' % model.score(X_val, y_val))\n",
    "print(\"Mean absolute error: %.2f\" % np.mean(np.absolute(prediction - y_val)))\n",
    "print(\"Residual sum of squares (MSE): %.2f\" % np.mean((prediction - y_val) ** 2))\n",
    "print(\"R2-score: %.2f\" % r2_score(y_val,prediction ) )"
   ]
  },
  {
   "cell_type": "markdown",
   "id": "845b24af",
   "metadata": {},
   "source": [
    "# DecisionTree"
   ]
  },
  {
   "cell_type": "code",
   "execution_count": 16,
   "id": "41a1c9cf",
   "metadata": {},
   "outputs": [
    {
     "data": {
      "text/plain": [
       "DecisionTreeRegressor(random_state=0)"
      ]
     },
     "execution_count": 16,
     "metadata": {},
     "output_type": "execute_result"
    }
   ],
   "source": [
    "regressor=DecisionTreeRegressor(random_state=0)\n",
    "regressor.fit(X_train,y_train)"
   ]
  },
  {
   "cell_type": "code",
   "execution_count": 18,
   "id": "0625ed62",
   "metadata": {},
   "outputs": [],
   "source": [
    "prediction=regressor.predict(X_val)"
   ]
  },
  {
   "cell_type": "code",
   "execution_count": 21,
   "id": "9e9fded7",
   "metadata": {},
   "outputs": [],
   "source": [
    "\n",
    "prediction=prediction.reshape(7732,1)\n"
   ]
  },
  {
   "cell_type": "code",
   "execution_count": 23,
   "id": "bd5e9ec4",
   "metadata": {},
   "outputs": [
    {
     "name": "stdout",
     "output_type": "stream",
     "text": [
      "Variance score: 0.90\n",
      "Mean absolute error: 3.39\n",
      "Residual sum of squares (MSE): 51.76\n",
      "R2-score: 0.90\n"
     ]
    },
    {
     "name": "stderr",
     "output_type": "stream",
     "text": [
      "C:\\Users\\AL799775\\Anaconda3\\lib\\site-packages\\numpy\\core\\fromnumeric.py:3438: FutureWarning: In a future version, DataFrame.mean(axis=None) will return a scalar mean over the entire DataFrame. To retain the old behavior, use 'frame.mean(axis=0)' or just 'frame.mean()'\n",
      "  return mean(axis=axis, dtype=dtype, out=out, **kwargs)\n"
     ]
    }
   ],
   "source": [
    "print('Variance score: %.2f' % regressor.score(X_val, y_val))\n",
    "print(\"Mean absolute error: %.2f\" % np.mean(np.absolute(prediction - y_val)))\n",
    "print(\"Residual sum of squares (MSE): %.2f\" % np.mean((prediction - y_val) ** 2))\n",
    "print(\"R2-score: %.2f\" % r2_score(y_val,prediction ) )"
   ]
  },
  {
   "cell_type": "markdown",
   "id": "da53f45b",
   "metadata": {},
   "source": [
    "# RandomForest"
   ]
  },
  {
   "cell_type": "code",
   "execution_count": 24,
   "id": "bc704866",
   "metadata": {},
   "outputs": [
    {
     "name": "stderr",
     "output_type": "stream",
     "text": [
      "C:\\Users\\AL799775\\AppData\\Local\\Temp\\ipykernel_14728\\1307524990.py:2: DataConversionWarning: A column-vector y was passed when a 1d array was expected. Please change the shape of y to (n_samples,), for example using ravel().\n",
      "  regr.fit(X_train,y_train)\n"
     ]
    },
    {
     "data": {
      "text/plain": [
       "RandomForestRegressor(max_depth=90, random_state=0)"
      ]
     },
     "execution_count": 24,
     "metadata": {},
     "output_type": "execute_result"
    }
   ],
   "source": [
    "regr=RandomForestRegressor(max_depth=90,random_state=0,n_estimators=100)\n",
    "regr.fit(X_train,y_train)"
   ]
  },
  {
   "cell_type": "code",
   "execution_count": 25,
   "id": "1a368c1e",
   "metadata": {},
   "outputs": [],
   "source": [
    "prediction=regr.predict(X_val)"
   ]
  },
  {
   "cell_type": "code",
   "execution_count": 26,
   "id": "7405cfb3",
   "metadata": {},
   "outputs": [],
   "source": [
    "prediction=prediction.reshape(7732,1)\n"
   ]
  },
  {
   "cell_type": "code",
   "execution_count": 27,
   "id": "ae086be2",
   "metadata": {},
   "outputs": [
    {
     "name": "stdout",
     "output_type": "stream",
     "text": [
      "Variance score: 0.95\n",
      "Mean absolute error: 2.50\n",
      "Residual sum of squares (MSE): 24.68\n",
      "R2-score: 0.95\n"
     ]
    },
    {
     "name": "stderr",
     "output_type": "stream",
     "text": [
      "C:\\Users\\AL799775\\Anaconda3\\lib\\site-packages\\numpy\\core\\fromnumeric.py:3438: FutureWarning: In a future version, DataFrame.mean(axis=None) will return a scalar mean over the entire DataFrame. To retain the old behavior, use 'frame.mean(axis=0)' or just 'frame.mean()'\n",
      "  return mean(axis=axis, dtype=dtype, out=out, **kwargs)\n"
     ]
    }
   ],
   "source": [
    "print('Variance score: %.2f' % regr.score(X_val, y_val))\n",
    "print(\"Mean absolute error: %.2f\" % np.mean(np.absolute(prediction - y_val)))\n",
    "print(\"Residual sum of squares (MSE): %.2f\" % np.mean((prediction - y_val) ** 2))\n",
    "print(\"R2-score: %.2f\" % r2_score(y_val,prediction ) )"
   ]
  },
  {
   "cell_type": "markdown",
   "id": "4e0c99e9",
   "metadata": {},
   "source": [
    "# SVR"
   ]
  },
  {
   "cell_type": "code",
   "execution_count": 28,
   "id": "fd79212a",
   "metadata": {},
   "outputs": [
    {
     "name": "stderr",
     "output_type": "stream",
     "text": [
      "C:\\Users\\AL799775\\Anaconda3\\lib\\site-packages\\sklearn\\utils\\validation.py:993: DataConversionWarning: A column-vector y was passed when a 1d array was expected. Please change the shape of y to (n_samples, ), for example using ravel().\n",
      "  y = column_or_1d(y, warn=True)\n"
     ]
    },
    {
     "data": {
      "text/plain": [
       "SVR()"
      ]
     },
     "execution_count": 28,
     "metadata": {},
     "output_type": "execute_result"
    }
   ],
   "source": [
    "reg = SVR(kernel = 'rbf')\n",
    "reg.fit(X_train,y_train)"
   ]
  },
  {
   "cell_type": "code",
   "execution_count": 29,
   "id": "d65f52a1",
   "metadata": {},
   "outputs": [],
   "source": [
    "prediction=regr.predict(X_val)"
   ]
  },
  {
   "cell_type": "code",
   "execution_count": 30,
   "id": "8de70e24",
   "metadata": {},
   "outputs": [],
   "source": [
    "prediction=prediction.reshape(7732,1)\n"
   ]
  },
  {
   "cell_type": "code",
   "execution_count": 31,
   "id": "e09b4ede",
   "metadata": {},
   "outputs": [
    {
     "name": "stdout",
     "output_type": "stream",
     "text": [
      "Variance score: 0.94\n",
      "Mean absolute error: 2.50\n",
      "Residual sum of squares (MSE): 24.68\n",
      "R2-score: 0.95\n"
     ]
    },
    {
     "name": "stderr",
     "output_type": "stream",
     "text": [
      "C:\\Users\\AL799775\\Anaconda3\\lib\\site-packages\\numpy\\core\\fromnumeric.py:3438: FutureWarning: In a future version, DataFrame.mean(axis=None) will return a scalar mean over the entire DataFrame. To retain the old behavior, use 'frame.mean(axis=0)' or just 'frame.mean()'\n",
      "  return mean(axis=axis, dtype=dtype, out=out, **kwargs)\n"
     ]
    }
   ],
   "source": [
    "print('Variance score: %.2f' % reg.score(X_val, y_val))\n",
    "print(\"Mean absolute error: %.2f\" % np.mean(np.absolute(prediction - y_val)))\n",
    "print(\"Residual sum of squares (MSE): %.2f\" % np.mean((prediction - y_val) ** 2))\n",
    "print(\"R2-score: %.2f\" % r2_score(y_val,prediction ) )"
   ]
  },
  {
   "cell_type": "markdown",
   "id": "2e7df06a",
   "metadata": {},
   "source": [
    "# Normalization"
   ]
  },
  {
   "cell_type": "code",
   "execution_count": 32,
   "id": "cf995e80",
   "metadata": {},
   "outputs": [],
   "source": [
    "scaler = MinMaxScaler()\n",
    "train_scaled = scaler.fit_transform(X_train)\n",
    "val_scaled = scaler.transform(X_val)\n",
    "test_scaled = scaler.transform(X_test)\n",
    "\n",
    "train_scaled, y_train = np.array(train_scaled), np.array(y_train)\n",
    "test_scaled,  y_test  = np.array(test_scaled),  np.array(y_test)\n",
    "val_scaled,  y_val  = np.array(val_scaled),  np.array(y_val)"
   ]
  },
  {
   "cell_type": "markdown",
   "id": "a6eec865",
   "metadata": {},
   "source": [
    "# ANN"
   ]
  },
  {
   "cell_type": "code",
   "execution_count": 174,
   "id": "486f0604",
   "metadata": {},
   "outputs": [],
   "source": [
    "def DNN(shape):\n",
    "  \n",
    "    model = keras.models.Sequential()\n",
    "    model.add(keras.layers.Input(shape, name=\"InputLayer\"))\n",
    "    model.add(keras.layers.Dense(289, activation='relu', name='Dense_n1'))\n",
    "    model.add(keras.layers.Dense(486, activation='relu', name='Dense_n2'))\n",
    "    model.add(keras.layers.Dense(245, activation='relu', name='Dense_n3'))\n",
    "    model.add(keras.layers.Dense(1, name='Output'))\n",
    "  \n",
    "    model.compile(optimizer = keras.optimizers.Adam(learning_rate = 0.001),\n",
    "                loss      = 'mse',\n",
    "                metrics   = ['mae', 'mse'] )\n",
    "    return model"
   ]
  },
  {
   "cell_type": "code",
   "execution_count": 264,
   "id": "61ad0452",
   "metadata": {},
   "outputs": [
    {
     "name": "stdout",
     "output_type": "stream",
     "text": [
      "Model: \"sequential_41\"\n",
      "_________________________________________________________________\n",
      " Layer (type)                Output Shape              Param #   \n",
      "=================================================================\n",
      " Dense_n1 (Dense)            (None, 215)               1075      \n",
      "                                                                 \n",
      " Dense_n2 (Dense)            (None, 484)               104544    \n",
      "                                                                 \n",
      " Dense_n3 (Dense)            (None, 245)               118825    \n",
      "                                                                 \n",
      " Dense_n4 (Dense)            (None, 255)               62730     \n",
      "                                                                 \n",
      " Output (Dense)              (None, 1)                 256       \n",
      "                                                                 \n",
      "=================================================================\n",
      "Total params: 287,430\n",
      "Trainable params: 287,430\n",
      "Non-trainable params: 0\n",
      "_________________________________________________________________\n"
     ]
    }
   ],
   "source": [
    "model=DNN( (4,) )\n",
    "\n",
    "model.summary()"
   ]
  },
  {
   "cell_type": "code",
   "execution_count": null,
   "id": "f648f2ef",
   "metadata": {},
   "outputs": [
    {
     "name": "stdout",
     "output_type": "stream",
     "text": [
      "Epoch 1/30\n",
      "725/725 [==============================] - 4s 4ms/step - loss: 139.2620 - mae: 5.0274 - mse: 139.2620 - val_loss: 32052000.0000 - val_mae: 5350.9619 - val_mse: 32052000.0000\n",
      "Epoch 2/30\n",
      "725/725 [==============================] - 3s 4ms/step - loss: 31.6034 - mae: 3.1505 - mse: 31.6034 - val_loss: 33434010.0000 - val_mae: 5461.8906 - val_mse: 33434010.0000\n",
      "Epoch 3/30\n",
      "725/725 [==============================] - 3s 4ms/step - loss: 31.4812 - mae: 3.1022 - mse: 31.4812 - val_loss: 32151648.0000 - val_mae: 5336.2939 - val_mse: 32151648.0000\n",
      "Epoch 4/30\n",
      "656/725 [==========================>...] - ETA: 0s - loss: 31.9485 - mae: 3.1622 - mse: 31.9485"
     ]
    }
   ],
   "source": [
    "history = model.fit(train_scaled,\n",
    "                    y_train,\n",
    "                    epochs          = 30,\n",
    "                    validation_data = (X_val, y_val))"
   ]
  },
  {
   "cell_type": "code",
   "execution_count": null,
   "id": "24b97f79",
   "metadata": {},
   "outputs": [],
   "source": [
    "#df=pd.DataFrame(data=history.history)\n",
    "#display(df) "
   ]
  },
  {
   "cell_type": "code",
   "execution_count": null,
   "id": "86e8dbcd",
   "metadata": {},
   "outputs": [],
   "source": [
    "prediction=model.predict(val_scaled)"
   ]
  },
  {
   "cell_type": "code",
   "execution_count": null,
   "id": "3719e716",
   "metadata": {},
   "outputs": [],
   "source": [
    "print(\"Mean absolute error: %.2f\" % np.mean(np.absolute(prediction - y_val)))\n",
    "print(\"Residual sum of squares (MSE): %.2f\" % np.mean((prediction - y_val) ** 2))\n",
    "print(\"R2-score: %.2f\" % r2_score(y_val,prediction ) )"
   ]
  },
  {
   "cell_type": "code",
   "execution_count": null,
   "id": "ac69cb0e",
   "metadata": {},
   "outputs": [],
   "source": []
  },
  {
   "cell_type": "code",
   "execution_count": null,
   "id": "db83bfc2",
   "metadata": {},
   "outputs": [],
   "source": []
  }
 ],
 "metadata": {
  "kernelspec": {
   "display_name": "Python 3.11.0 64-bit",
   "language": "python",
   "name": "python3"
  },
  "language_info": {
   "codemirror_mode": {
    "name": "ipython",
    "version": 3
   },
   "file_extension": ".py",
   "mimetype": "text/x-python",
   "name": "python",
   "nbconvert_exporter": "python",
   "pygments_lexer": "ipython3",
   "version": "3.11.0"
  },
  "vscode": {
   "interpreter": {
    "hash": "1a1af0ee75eeea9e2e1ee996c87e7a2b11a0bebd85af04bb136d915cefc0abce"
   }
  }
 },
 "nbformat": 4,
 "nbformat_minor": 5
}
